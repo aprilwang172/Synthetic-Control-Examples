{
 "cells": [
  {
   "cell_type": "markdown",
   "metadata": {},
   "source": [
    "> This post was generated from a Jupyter notebook; it can be found [here](https://github.com/tom-beer/Synthetic-Control-Examples) \n",
    "\n",
    "Suppose we want to estimate the causal effect of:\n",
    "* An anti smoking taxation program in California on cigarette consumption\n",
    "\n",
    "or\n",
    "* The German reunification on West Germany’s economy\n",
    "\n",
    "or\n",
    "* Right to carry laws on violent crimes in Texas\n",
    "\n",
    "or\n",
    "* Uber and Lyft on traffic congestion in Paris\n",
    "\n",
    "What would be a sensible approach to answer these questions? For practitioners coming from domains like healthcare, advertisement or collaborative filtering, these questions do not seem to fit in their everyday way of thinking. The reason is that for these questions, we are interested in the effect of an intervention for a single unit, while we do not have any data about this intervention for other units. \n",
    "\n",
    "Take the German reunification as an example - it is only Germany that was reunified, and the task is to infer the causal effect of that historic event. As for the other examples - sure, California was not the first to implement an anti-smoking program, and Uber is active in many cities over the globe apart from Paris. But the task considered here is to use only the intervention data for the unit in question.\n",
    "\n",
    "***\n",
    "## The qualitative approach\n",
    "\n",
    "It seems insensible to make inferences on a single unit - what credibility could we attain? What would be the statistical properties of the estimator? But for decades, qualitative analyses that seem unsensible were carried out by economists and social scientists. They would meticulously find relevant controls for the relevant treated unit, relying on informal statements of affinity between the units. Then, with a chosen control unit, identification schemes like difference-in-differences would be applied. This approach has some merit - the resulting estimator is interpretable, transparent and simple. It is easy to communicate it and argue about the choice of control units. Yet it's clear that it is not the optimal approach, at least for practitioners of the quantitative/statistical learning school. So the question is - can we do better? Can we devise a data-driven approach for causal effect estimation of aggregate interventions? Can we phrase a clear objective for the estimator?\n",
    "***\n",
    "## Synthetic Controls\n",
    "Introduced in 2003 and formalized in 2010 by Alberto Abadie and colleagues, the synthetic control aims to bridge between the traditional qualitative approaches of the social sciences and the modern data driven approaches. It strikes a balance between the two by offering a clear objective function to optimize while constraining the model to remain transparebt, interpretable and simple. It is applicable to almost any domain, and became very popular thanks to its lenient assumptions. Esteemed economists Susan Athey and Guido Imbens have called it \"arguably the most important innovation in the policy evaluation literature in the last 15 years\". Sounds interesting? Let's dive in."
   ]
  },
  {
   "cell_type": "markdown",
   "metadata": {},
   "source": [
    "\n",
    "***\n",
    "### The main idea\n",
    "The qualitative approach calls for a manual selection of control units from a pool of potential control units. The main idea of the synthetic control method is to forgo any kind of manual control selection. Instead, the method makes use of **all** the control units in a data-driven approach. The controls are weighted based on their similarity to the treated unit, yielding the synthetic control as a weighed combination of the original units.\n",
    "\n",
    "<details>\n",
    "  <summary><b>Potential outcomes</b></summary>\n",
    "  We can formalize the main idea above in the language of potential outcomes:\n",
    "\n",
    "  - For the control units, we observe the potential outcome under no-intervention\n",
    "  - For the treated unit, we observe its potential outcome under no-intervention in the pre-intervention period, and its potential outcome under the intervention in the post-intervention period\n",
    "  - To calculate the causal effect, we need the treated unit's potential outcome under no-intervention in the post-intervention period\n",
    "  - The synthetic control emulates this potential outcome. It attempts to answer the question of \"What would have been the outcome for the treated unit, without the intervention?\"\n",
    "</details>\n",
    "\n",
    "We see that the task of causal effect estimation boils down to finding the optimal weighting of the control units.\n",
    "And how shall one find the optimal weights? This is the point where the road forks - there are many suggestions for phrasing of the optimization problem, each with its own pros and cons. The next section will describe one possibility, which is the originally proposed apparoch by Abadie et al; A discussion of its limitations in face of more contemporary approaches will follow. But first - some (minimal) notation.\n",
    "\n",
    "***\n",
    "\n",
    "### The setting\n",
    "- We have data for $T$ time periods, $T_0$ of them are pre-intervention and $T_1$ belong to the post-intervention period\n",
    "- We have $J$ control units, $j\\in\\{1,..,n\\}$, and one treated unit ($j=0$)\n",
    "- The measured outcomes for each unit and time period is $Y_{jt} \\in \\mathbb{R}^{T \\times J+1}$\n",
    "- The synthetic control is defined as $\\sum_{j=1}^{J} Y_{jt} \\cdot W_j$\n",
    "- The causal effect estimate is thus $\\tau_t = Y_{0t} - \\sum_{j=1}^{J} Y_{jt} \\cdot W_j$\n",
    "- In addition, for some methods we require a set of $K$ outcome predictors for each unit: $X_{kj}\\in \\mathbb{R}^{K \\times J+1}$. These may be lagged outcomes (pre-intervention) or other auxiliary features (or both)\n",
    "\n",
    "***\n",
    "\n",
    "### ADH's synthetic control\n",
    "Proposed by Abadie, Diamond and Hainmueller (hence the name) in [this paper](https://www.tandfonline.com/doi/abs/10.1198/jasa.2009.ap08746), this is the seminal proposal for policy evaluation using synthetic controls. Apart from introducing the main idea above, they present the following objective function:\n",
    "\n",
    "$$W^* \\in argmin_{W \\in {\\Delta}^{J}} \\lVert \\mathbf{X_0-X_{\\neg0} \\cdot W} \\rVert  $$\n",
    "\n",
    "Some remarks:\n",
    "- The similarity between the controls and the treated units is measured with respect to the features $X$, while the synthetic control is constructed using the outcomes $Y$. It might seem more sensible to perform the matching with respect the outcome from the start. After all, we are interested in a good pre-treatment fit for the outcome, and the best fit would be obtained using the outcome and not a proxy for it. Indeed, recent works claim that \"*covariates are of less relevance in applications; outcomes tend to be substantially more important than covariates in terms of predictive power*\" ([see here](https://arxiv.org/abs/1607.00699))\n",
    "\n",
    "\n",
    "- The weights are constrained to lie in the J-simplex, i.e. they should be non-negative and sum to one. The authors impose this constraint to avoid extrapolation and increase the method's transparency. But like the previous point, here too recent studies recommend to remove this constraint, stating that it is not obvious that restricting the weights this way is optimal ([see here](https://arxiv.org/abs/1607.00699)). From a different angle, this constraint could be seen as weight regularization, for example [this work](https://arxiv.org/pdf/1803.00096.pdf) shows an equivalence between the simplex constraint and LASSO regularization with a fixed coefficient. The question that arises is - why use a fixed-strength regularization, instead of using LASSO with cross-validation?\n",
    "\n",
    "These are valid and thoughtful concerns. I think it would be best to take the main idea of the synthetic control method, but to experiment with the implementation details for each use case.\n",
    "\n",
    "***\n",
    "\n",
    "## An example use case\n",
    "### Estimating the effect of California’s tobacco control program\n",
    "This section will demonstrate the described method on a specific use case. The case of California's tobacco control program was one of the first applications of the synthetic control method, and it was introduced in [this paper](https://www.tandfonline.com/doi/abs/10.1198/jasa.2009.ap08746). I will recover all steps: data processing, feature extraction, synthetic control construction and causal effect estimation - exactly as shown in the paper and described above (no modifications at all to the original method). If something wasn't clear above - hopefully this example will clarify things up.\n",
    "\n",
    "##### The research question\n",
    "In 1988 California implemented a large scale tobacco control program, called proposition 99, that increased  California’s cigarette excise tax by 25 cents per pack, earmarked the tax revenues to health and anti-smoking education budgets, funded anti-smoking media campaigns, and spurred local clean indoor-air ordinances throughout the state. The question we are interested here it to evaluate the policy's effect in terms of per-capita cigarette consumption. The potential control in this case are all US states (that's an [RAS](https://en.wikipedia.org/wiki/RAS_syndrome))."
   ]
  },
  {
   "cell_type": "code",
   "execution_count": 1,
   "metadata": {},
   "outputs": [],
   "source": [
    "#hide\n",
    "from matplotlib import pyplot as plt\n",
    "import pyreadr\n",
    "import numpy as np\n",
    "import pandas as pd\n",
    "import copy\n",
    "from scipy.optimize import fmin_slsqp\n",
    "from sklearn.metrics import mean_squared_error\n",
    "\n",
    "START_TIME = 1970\n",
    "INTERVENTION_TIME = 1989\n",
    "STOP_TIME = 2001"
   ]
  },
  {
   "cell_type": "markdown",
   "metadata": {},
   "source": [
    "##### Data\n",
    "- The main outcome is annual per-capita cigarette consumption. The data for this can be found [here](https://github.com/johnson-shuffle/mixtape/tree/master/data).\n",
    "- In addition to the main outcome, we will utilize some features that correlate with it (GDP, ages, beer consumption etc). This data is taken from [here](https://github.com/jehangiramjad/tslib/tree/master/tests/testdata)."
   ]
  },
  {
   "cell_type": "code",
   "execution_count": 2,
   "metadata": {},
   "outputs": [
    {
     "name": "stdout",
     "output_type": "stream",
     "text": [
      "In the original dataset there are 51 states\n"
     ]
    }
   ],
   "source": [
    "df_outcome_raw = pd.read_csv('../Data/prop99.csv')\n",
    "df_outcome_raw = df_outcome_raw[df_outcome_raw['SubMeasureDesc'] == 'Cigarette Consumption (Pack Sales Per Capita)']\n",
    "df_outcome = pd.DataFrame(df_outcome_raw.pivot_table(values='Data_Value', index='LocationDesc', columns=['Year']).to_records())\n",
    "\n",
    "rda_predictors = pyreadr.read_r('../Data/smoking.rda')\n",
    "df_predictors = pd.DataFrame(list(rda_predictors.values())[0])\n",
    "print(f'In the original dataset there are {df_outcome.LocationDesc.unique().shape[0]} states')"
   ]
  },
  {
   "cell_type": "markdown",
   "metadata": {},
   "source": [
    "As part of the method's assumptions and requirements, it is important to exclude from the donor pool (this is how the collection of control units is traditionally called) any unit that may not be a true control - i.e. any unit that has implemented a similar intervention. In our case, some states also introduced anti-smoking programs or substantially increased the tax for cigarettes:"
   ]
  },
  {
   "cell_type": "code",
   "execution_count": 3,
   "metadata": {},
   "outputs": [
    {
     "name": "stdout",
     "output_type": "stream",
     "text": [
      "After filtering out some states, we are left with 39 states (including California):\n"
     ]
    },
    {
     "data": {
      "text/html": [
       "<div>\n",
       "<style scoped>\n",
       "    .dataframe tbody tr th:only-of-type {\n",
       "        vertical-align: middle;\n",
       "    }\n",
       "\n",
       "    .dataframe tbody tr th {\n",
       "        vertical-align: top;\n",
       "    }\n",
       "\n",
       "    .dataframe thead th {\n",
       "        text-align: right;\n",
       "    }\n",
       "</style>\n",
       "<table border=\"1\" class=\"dataframe\">\n",
       "  <thead>\n",
       "    <tr style=\"text-align: right;\">\n",
       "      <th></th>\n",
       "      <th>org_index</th>\n",
       "      <th>LocationDesc</th>\n",
       "      <th>1970</th>\n",
       "      <th>1971</th>\n",
       "      <th>1972</th>\n",
       "      <th>1973</th>\n",
       "      <th>1974</th>\n",
       "      <th>1975</th>\n",
       "      <th>1976</th>\n",
       "      <th>1977</th>\n",
       "      <th>...</th>\n",
       "      <th>2005</th>\n",
       "      <th>2006</th>\n",
       "      <th>2007</th>\n",
       "      <th>2008</th>\n",
       "      <th>2009</th>\n",
       "      <th>2010</th>\n",
       "      <th>2011</th>\n",
       "      <th>2012</th>\n",
       "      <th>2013</th>\n",
       "      <th>2014</th>\n",
       "    </tr>\n",
       "  </thead>\n",
       "  <tbody>\n",
       "    <tr>\n",
       "      <th>0</th>\n",
       "      <td>0</td>\n",
       "      <td>Alabama</td>\n",
       "      <td>89.8</td>\n",
       "      <td>95.4</td>\n",
       "      <td>101.1</td>\n",
       "      <td>102.9</td>\n",
       "      <td>108.2</td>\n",
       "      <td>111.7</td>\n",
       "      <td>116.2</td>\n",
       "      <td>117.1</td>\n",
       "      <td>...</td>\n",
       "      <td>82.4</td>\n",
       "      <td>83.3</td>\n",
       "      <td>80.2</td>\n",
       "      <td>78.0</td>\n",
       "      <td>75.6</td>\n",
       "      <td>71.5</td>\n",
       "      <td>68.4</td>\n",
       "      <td>67.2</td>\n",
       "      <td>64.6</td>\n",
       "      <td>61.7</td>\n",
       "    </tr>\n",
       "    <tr>\n",
       "      <th>1</th>\n",
       "      <td>3</td>\n",
       "      <td>Arkansas</td>\n",
       "      <td>100.3</td>\n",
       "      <td>104.1</td>\n",
       "      <td>103.9</td>\n",
       "      <td>108.0</td>\n",
       "      <td>109.7</td>\n",
       "      <td>114.8</td>\n",
       "      <td>119.1</td>\n",
       "      <td>122.6</td>\n",
       "      <td>...</td>\n",
       "      <td>82.1</td>\n",
       "      <td>81.4</td>\n",
       "      <td>78.4</td>\n",
       "      <td>77.0</td>\n",
       "      <td>72.6</td>\n",
       "      <td>63.2</td>\n",
       "      <td>61.1</td>\n",
       "      <td>60.5</td>\n",
       "      <td>57.5</td>\n",
       "      <td>54.4</td>\n",
       "    </tr>\n",
       "    <tr>\n",
       "      <th>2</th>\n",
       "      <td>4</td>\n",
       "      <td>California</td>\n",
       "      <td>123.0</td>\n",
       "      <td>121.0</td>\n",
       "      <td>123.5</td>\n",
       "      <td>124.4</td>\n",
       "      <td>126.7</td>\n",
       "      <td>127.1</td>\n",
       "      <td>128.0</td>\n",
       "      <td>126.4</td>\n",
       "      <td>...</td>\n",
       "      <td>33.1</td>\n",
       "      <td>32.9</td>\n",
       "      <td>31.8</td>\n",
       "      <td>30.3</td>\n",
       "      <td>28.8</td>\n",
       "      <td>26.3</td>\n",
       "      <td>26.0</td>\n",
       "      <td>25.2</td>\n",
       "      <td>23.9</td>\n",
       "      <td>22.7</td>\n",
       "    </tr>\n",
       "    <tr>\n",
       "      <th>3</th>\n",
       "      <td>5</td>\n",
       "      <td>Colorado</td>\n",
       "      <td>124.8</td>\n",
       "      <td>125.5</td>\n",
       "      <td>134.3</td>\n",
       "      <td>137.9</td>\n",
       "      <td>132.8</td>\n",
       "      <td>131.0</td>\n",
       "      <td>134.2</td>\n",
       "      <td>132.0</td>\n",
       "      <td>...</td>\n",
       "      <td>57.9</td>\n",
       "      <td>53.1</td>\n",
       "      <td>51.1</td>\n",
       "      <td>48.4</td>\n",
       "      <td>46.0</td>\n",
       "      <td>41.4</td>\n",
       "      <td>40.6</td>\n",
       "      <td>40.6</td>\n",
       "      <td>38.3</td>\n",
       "      <td>36.7</td>\n",
       "    </tr>\n",
       "    <tr>\n",
       "      <th>4</th>\n",
       "      <td>6</td>\n",
       "      <td>Connecticut</td>\n",
       "      <td>120.0</td>\n",
       "      <td>117.6</td>\n",
       "      <td>110.8</td>\n",
       "      <td>109.3</td>\n",
       "      <td>112.4</td>\n",
       "      <td>110.2</td>\n",
       "      <td>113.4</td>\n",
       "      <td>117.3</td>\n",
       "      <td>...</td>\n",
       "      <td>49.9</td>\n",
       "      <td>50.9</td>\n",
       "      <td>50.5</td>\n",
       "      <td>47.4</td>\n",
       "      <td>45.9</td>\n",
       "      <td>40.8</td>\n",
       "      <td>36.3</td>\n",
       "      <td>33.5</td>\n",
       "      <td>31.4</td>\n",
       "      <td>30.1</td>\n",
       "    </tr>\n",
       "  </tbody>\n",
       "</table>\n",
       "<p>5 rows × 47 columns</p>\n",
       "</div>"
      ],
      "text/plain": [
       "   org_index LocationDesc   1970   1971   1972   1973   1974   1975   1976  \\\n",
       "0          0      Alabama   89.8   95.4  101.1  102.9  108.2  111.7  116.2   \n",
       "1          3     Arkansas  100.3  104.1  103.9  108.0  109.7  114.8  119.1   \n",
       "2          4   California  123.0  121.0  123.5  124.4  126.7  127.1  128.0   \n",
       "3          5     Colorado  124.8  125.5  134.3  137.9  132.8  131.0  134.2   \n",
       "4          6  Connecticut  120.0  117.6  110.8  109.3  112.4  110.2  113.4   \n",
       "\n",
       "    1977  ...  2005  2006  2007  2008  2009  2010  2011  2012  2013  2014  \n",
       "0  117.1  ...  82.4  83.3  80.2  78.0  75.6  71.5  68.4  67.2  64.6  61.7  \n",
       "1  122.6  ...  82.1  81.4  78.4  77.0  72.6  63.2  61.1  60.5  57.5  54.4  \n",
       "2  126.4  ...  33.1  32.9  31.8  30.3  28.8  26.3  26.0  25.2  23.9  22.7  \n",
       "3  132.0  ...  57.9  53.1  51.1  48.4  46.0  41.4  40.6  40.6  38.3  36.7  \n",
       "4  117.3  ...  49.9  50.9  50.5  47.4  45.9  40.8  36.3  33.5  31.4  30.1  \n",
       "\n",
       "[5 rows x 47 columns]"
      ]
     },
     "execution_count": 3,
     "metadata": {},
     "output_type": "execute_result"
    }
   ],
   "source": [
    "bad_states = ['Massachusetts', 'Arizona', 'Oregon', 'Florida', 'Alaska', 'Hawaii', 'Maryland', \n",
    "              'Michigan', 'New Jersey', 'New York', 'Washington', 'District of Columbia']\n",
    "\n",
    "df_outcome.drop(df_outcome[df_outcome['LocationDesc'].isin(bad_states)].index, inplace=True)\n",
    "ca_id = df_outcome[df_outcome['LocationDesc'] == 'California'].index.item()\n",
    "df_outcome = df_outcome.reset_index()\n",
    "df_outcome = df_outcome.rename(columns={'index': 'org_index'})\n",
    "print(f'After filtering out some states, we are left with {df_outcome.LocationDesc.unique().shape[0]} states (including California):')\n",
    "df_outcome.head()"
   ]
  },
  {
   "cell_type": "markdown",
   "metadata": {},
   "source": [
    "Let's construct the matrices defined above:"
   ]
  },
  {
   "cell_type": "code",
   "execution_count": 4,
   "metadata": {},
   "outputs": [],
   "source": [
    "df_outcome_ca = df_outcome.loc[df_outcome['LocationDesc'] == 'California', :]\n",
    "df_outcome_control = df_outcome.loc[df_outcome['LocationDesc'] != 'California', :]\n",
    "\n",
    "ca_outcomes_pre = df_outcome_ca.loc[:,[str(i) for i in list(range(START_TIME, INTERVENTION_TIME))]].values.reshape(-1,1)\n",
    "control_outcomes_pre = df_outcome_control.loc[:,[str(i) for i in list(range(START_TIME, INTERVENTION_TIME))]].values.transpose()\n",
    "\n",
    "ca_outcomes_post = df_outcome_ca.loc[:,[str(i) for i in list(range(INTERVENTION_TIME, STOP_TIME))]].values.reshape(-1,1)\n",
    "control_outcomes_post = df_outcome_control.loc[:,[str(i) for i in list(range(INTERVENTION_TIME, STOP_TIME))]].values.transpose()"
   ]
  },
  {
   "cell_type": "code",
   "execution_count": 5,
   "metadata": {},
   "outputs": [],
   "source": [
    "# hide\n",
    "Z0 = control_outcomes_pre\n",
    "Z1 = ca_outcomes_pre\n",
    "Y0 = control_outcomes_post\n",
    "Y1 = ca_outcomes_post"
   ]
  },
  {
   "cell_type": "markdown",
   "metadata": {},
   "source": [
    "If we plot the outcomes for California vs. an average of all US states, we see that the 'average control state' is not like California in the pre-intervention period, violating the parallel trends assumption required to draw inferences. Therefore we will find an optimal weighting that would attain a good fit to California in the pre-intervention period. "
   ]
  },
  {
   "cell_type": "code",
   "execution_count": 6,
   "metadata": {},
   "outputs": [
    {
     "data": {
      "image/png": "[encoded data removed]",
      "text/plain": [
       "<Figure size 540x324 with 1 Axes>"
      ]
     },
     "metadata": {
      "needs_background": "light"
     },
     "output_type": "display_data"
    }
   ],
   "source": [
    "mean_outcomes = np.vstack([control_outcomes_pre, control_outcomes_post]).mean(axis=1)\n",
    "CA_outcomes = np.vstack([ca_outcomes_pre, ca_outcomes_post]).flatten()\n",
    "fig = plt.figure(figsize=(7.5,4.5))\n",
    "plt.plot(range(START_TIME,STOP_TIME),mean_outcomes, 'r--', label=\"rest of the U.S.\");\n",
    "plt.plot(range(START_TIME,STOP_TIME),CA_outcomes, 'b-', label=\"California\");\n",
    "\n",
    "plt.ylabel('per-capita cigarette sales (in packs)')\n",
    "plt.xlabel('year')\n",
    "plt.legend(loc='upper right')\n",
    "plt.title(\"Figure 1: Trends in per-capita cigarette sales: California vs. the rest of the United States\")\n",
    "plt.axvline(INTERVENTION_TIME)\n",
    "plt.text(x=INTERVENTION_TIME+0.2, y=30, s='Passage of Proposition 99')\n",
    "plt.xlim([START_TIME, STOP_TIME-1])\n",
    "plt.ylim([0, 150])\n",
    "plt.grid()\n",
    "plt.show()"
   ]
  },
  {
   "cell_type": "code",
   "execution_count": 7,
   "metadata": {},
   "outputs": [],
   "source": [
    "# hide\n",
    "def extract_predictor_vec(state):\n",
    "    df_outcome_state = df_outcome[df_outcome['LocationDesc'] == state]\n",
    "    cigsale88_predictor = df_outcome_state['1988'].item()\n",
    "    cigsale80_predictor = df_outcome_state['1980'].item()\n",
    "    cigsale75_predictor = df_outcome_state['1975'].item()\n",
    "    \n",
    "    state_id_predictors_df = df_outcome[df_outcome['LocationDesc'] == 'California'].index.item() + 1\n",
    "    df_predictors_state = df_predictors[df_predictors['state'] == state_id_predictors_df]\n",
    "    beer_predictor = df_predictors_state.loc[(df_predictors_state['year'] >= 1984) & (df_predictors_state['year'] < INTERVENTION_TIME), 'beer'].mean()\n",
    "    age15to24_predictor = df_predictors_state.loc[(df_predictors_state['year'] >= 1980) & (df_predictors_state['year'] < INTERVENTION_TIME), 'age15to24'].mean()*100  # Should I turn multiply by 100? In table 1 it looks like it\n",
    "    retprice_predictor = df_predictors_state.loc[(df_predictors_state['year'] >= 1980) & (df_predictors_state['year'] < INTERVENTION_TIME), 'retprice'].mean()\n",
    "    lnincome_predictor = df_predictors_state.loc[(df_predictors_state['year'] >= 1980) & (df_predictors_state['year'] < INTERVENTION_TIME), 'lnincome'].mean()\n",
    "    \n",
    "    return np.array([lnincome_predictor, age15to24_predictor, retprice_predictor, beer_predictor,  \n",
    "                     cigsale88_predictor, cigsale80_predictor, cigsale75_predictor]).reshape(-1,1)"
   ]
  },
  {
   "cell_type": "markdown",
   "metadata": {},
   "source": [
    "Now let's extract the covariates used in the paper. \n",
    "> Note that some of the boilerplate code has been rendered out of the html file, but it can be found in the original notebook [here]()"
   ]
  },
  {
   "cell_type": "code",
   "execution_count": 8,
   "metadata": {},
   "outputs": [],
   "source": [
    "control_predictors = []\n",
    "for state in df_outcome['LocationDesc'].unique():\n",
    "    state_predictor_vec = extract_predictor_vec(state)\n",
    "    if state == 'California':\n",
    "        ca_predictors = state_predictor_vec\n",
    "    else:\n",
    "        control_predictors += [state_predictor_vec]\n",
    "\n",
    "control_predictors = np.hstack(control_predictors)"
   ]
  },
  {
   "cell_type": "code",
   "execution_count": 9,
   "metadata": {},
   "outputs": [],
   "source": [
    "#hide\n",
    "X0 = control_predictors\n",
    "X1 = ca_predictors"
   ]
  },
  {
   "cell_type": "markdown",
   "metadata": {},
   "source": [
    "And here is how we optimize the objective function. \n",
    "\n",
    "Note that in the original paper, the authors suggested to add feature importance weights $V$ to be tuned simultaneously with the control weights $W$. I am not convinced that these are required, especially if all features are scaled properly. But in order to reproduce the same results as in the paper, these importance weights are tuned here too. Without them, the optimization would have been a single line of least squares.."
   ]
  },
  {
   "cell_type": "code",
   "execution_count": 10,
   "metadata": {},
   "outputs": [
    {
     "name": "stdout",
     "output_type": "stream",
     "text": [
      "Optimization terminated successfully    (Exit mode 0)\n",
      "            Current function value: 23.45850495358178\n",
      "            Iterations: 5\n",
      "            Function evaluations: 8\n",
      "            Gradient evaluations: 1\n"
     ]
    }
   ],
   "source": [
    "def w_mse(w, v, x0, x1): return mean_squared_error(x1, x0.dot(w), sample_weight=v)\n",
    "\n",
    "def w_constraint(w, v, x0, x1): return np.sum(w) - 1\n",
    "\n",
    "def v_constraint(V, W, X0, X1, Z0, Z1): return np.sum(V) - 1\n",
    "\n",
    "def fun_w(w, v, x0, x1): return fmin_slsqp(w_mse, w, bounds=[(0.0, 1.0)]*len(w), f_eqcons=w_constraint, \n",
    "                                           args=(v, x0, x1), disp=False, full_output=True)[0]\n",
    "\n",
    "def fun_v(v, w, x0, x1, z0, z1): return mean_squared_error(z1, z0.dot(fun_w(w, v, x0, x1)))\n",
    "\n",
    "def solve_synthetic_control(X0, X1, Z0, Z1, Y0):\n",
    "    k,j = X0.shape\n",
    "    V0 = 1/k*np.ones(k)\n",
    "    W0 = 1/j*np.zeros(j).transpose()\n",
    "    V = fmin_slsqp(fun_v, V0, args=(W0, X0, X1, Z0, Z1), bounds=[(0.0, 1.0)]*len(V0), disp=True, f_eqcons=v_constraint, acc=1e-6)\n",
    "    W = fun_w(W0, V, X0, X1)\n",
    "    return V, W\n",
    "\n",
    "V, W = solve_synthetic_control(control_predictors, ca_predictors, control_outcomes_pre, ca_outcomes_pre, control_outcomes_post)"
   ]
  },
  {
   "cell_type": "markdown",
   "metadata": {},
   "source": [
    "The optimization terminated successfully, but we need to examine obtained fit with respect to the features. The values for the 'average state' are shown for reference."
   ]
  },
  {
   "cell_type": "code",
   "execution_count": 11,
   "metadata": {},
   "outputs": [
    {
     "name": "stdout",
     "output_type": "stream",
     "text": [
      "Table 1: Cigarette sales predictor means \n",
      "\n"
     ]
    },
    {
     "data": {
      "text/html": [
       "<div>\n",
       "<style scoped>\n",
       "    .dataframe tbody tr th:only-of-type {\n",
       "        vertical-align: middle;\n",
       "    }\n",
       "\n",
       "    .dataframe tbody tr th {\n",
       "        vertical-align: top;\n",
       "    }\n",
       "\n",
       "    .dataframe thead th {\n",
       "        text-align: right;\n",
       "    }\n",
       "</style>\n",
       "<table border=\"1\" class=\"dataframe\">\n",
       "  <thead>\n",
       "    <tr style=\"text-align: right;\">\n",
       "      <th></th>\n",
       "      <th>Real California</th>\n",
       "      <th>Synthetic California</th>\n",
       "      <th>Average of 38 Controls</th>\n",
       "    </tr>\n",
       "  </thead>\n",
       "  <tbody>\n",
       "    <tr>\n",
       "      <th>0</th>\n",
       "      <td>10.076559</td>\n",
       "      <td>10.076559</td>\n",
       "      <td>10.076559</td>\n",
       "    </tr>\n",
       "    <tr>\n",
       "      <th>1</th>\n",
       "      <td>17.353238</td>\n",
       "      <td>17.353238</td>\n",
       "      <td>17.353238</td>\n",
       "    </tr>\n",
       "    <tr>\n",
       "      <th>2</th>\n",
       "      <td>89.422223</td>\n",
       "      <td>89.422223</td>\n",
       "      <td>89.422223</td>\n",
       "    </tr>\n",
       "    <tr>\n",
       "      <th>3</th>\n",
       "      <td>24.280000</td>\n",
       "      <td>24.280000</td>\n",
       "      <td>24.280000</td>\n",
       "    </tr>\n",
       "    <tr>\n",
       "      <th>4</th>\n",
       "      <td>90.100000</td>\n",
       "      <td>90.099950</td>\n",
       "      <td>113.823684</td>\n",
       "    </tr>\n",
       "    <tr>\n",
       "      <th>5</th>\n",
       "      <td>120.200000</td>\n",
       "      <td>120.200020</td>\n",
       "      <td>138.089474</td>\n",
       "    </tr>\n",
       "    <tr>\n",
       "      <th>6</th>\n",
       "      <td>127.100000</td>\n",
       "      <td>127.100214</td>\n",
       "      <td>136.931579</td>\n",
       "    </tr>\n",
       "  </tbody>\n",
       "</table>\n",
       "</div>"
      ],
      "text/plain": [
       "   Real California  Synthetic California  Average of 38 Controls\n",
       "0        10.076559             10.076559               10.076559\n",
       "1        17.353238             17.353238               17.353238\n",
       "2        89.422223             89.422223               89.422223\n",
       "3        24.280000             24.280000               24.280000\n",
       "4        90.100000             90.099950              113.823684\n",
       "5       120.200000            120.200020              138.089474\n",
       "6       127.100000            127.100214              136.931579"
      ]
     },
     "metadata": {},
     "output_type": "display_data"
    }
   ],
   "source": [
    "mean_predictors = X0.mean(axis=1)\n",
    "print(\"Table 1: Cigarette sales predictor means \\n\")\n",
    "display(pd.DataFrame(np.hstack([X1, X0.dot(W).reshape(-1,1), mean_predictors.reshape(-1,1)]), \n",
    "             columns=['Real California', 'Synthetic California', 'Average of 38 Controls']))"
   ]
  },
  {
   "cell_type": "markdown",
   "metadata": {},
   "source": [
    "Seems perfect. \n",
    "\n",
    "We can inspect which of the states contributed most to the synthetic control construction. These states are interpreted to be similar to California. And because of the simplex constraint, the solution is sparse - there are just a few states with non-negative weights."
   ]
  },
  {
   "cell_type": "code",
   "execution_count": 12,
   "metadata": {},
   "outputs": [
    {
     "name": "stdout",
     "output_type": "stream",
     "text": [
      "Utah, North Carolina, North Dakota, Montana, New Hampshire\n"
     ]
    }
   ],
   "source": [
    "largest_weights = list(df_outcome['LocationDesc'].values[1+np.flip(W.argsort())][:5])\n",
    "print(', '.join(largest_weights))"
   ]
  },
  {
   "cell_type": "markdown",
   "metadata": {},
   "source": [
    "Now Let's construct and examine the obtained synthetic control:"
   ]
  },
  {
   "cell_type": "code",
   "execution_count": 13,
   "metadata": {},
   "outputs": [
    {
     "data": {
      "image/png": "[encoded data removed]",
      "text/plain": [
       "<Figure size 540x324 with 1 Axes>"
      ]
     },
     "metadata": {
      "needs_background": "light"
     },
     "output_type": "display_data"
    }
   ],
   "source": [
    "SC_outcomes = np.vstack([Z0, Y0]).dot(W)\n",
    "CA_outcomes = np.vstack([Z1, Y1]).flatten()\n",
    "fig = plt.figure(figsize=(7.5,4.5)) \n",
    "\n",
    "plt.plot(range(START_TIME,STOP_TIME),SC_outcomes, 'r--', label=\"Synthetic California\");\n",
    "plt.plot(range(START_TIME,STOP_TIME),CA_outcomes, 'b-', label=\"California\");\n",
    "\n",
    "plt.ylabel('per-capita cigarette sales (in packs)')\n",
    "plt.xlabel('year')\n",
    "plt.legend(loc='upper right')\n",
    "plt.title(\"Figure 2: Trends in per-capita cigarette sales: California vs. synthetic California\")\n",
    "plt.axvline(INTERVENTION_TIME)\n",
    "plt.text(x=INTERVENTION_TIME+0.2, y=30, s='Passage of Proposition 99')\n",
    "plt.xlim([START_TIME, STOP_TIME-1])\n",
    "plt.ylim([0, 140])\n",
    "plt.grid()\n",
    "plt.show()"
   ]
  },
  {
   "cell_type": "markdown",
   "metadata": {},
   "source": [
    "The pre-intervention fit is reasonable, so we can move on with confidence to calculate the causal effect. This is as simple as subtracting the two lines:"
   ]
  },
  {
   "cell_type": "code",
   "execution_count": 14,
   "metadata": {},
   "outputs": [
    {
     "data": {
      "image/png": "[encoded data removed]",
      "text/plain": [
       "<Figure size 540x324 with 1 Axes>"
      ]
     },
     "metadata": {
      "needs_background": "light"
     },
     "output_type": "display_data"
    }
   ],
   "source": [
    "Gap_outcome = np.vstack([Z0, Y0]).dot(W) - np.vstack([Z1, Y1]).flatten()\n",
    "fig = plt.figure(figsize=(7.5,4.5)) \n",
    "\n",
    "plt.plot(range(START_TIME,STOP_TIME),Gap_outcome, 'r--');\n",
    "plt.ylabel('gap in per-capita cigarette sales (in packs)')\n",
    "plt.xlabel('year')\n",
    "plt.title(\"Figure 3: Per-capita cigarette sales gap between California and synthetic California\")\n",
    "plt.axhline(0)\n",
    "plt.axvline(INTERVENTION_TIME)\n",
    "plt.text(x=INTERVENTION_TIME-9.5, y=30, s='Passage of Proposition 99')\n",
    "plt.xlim([START_TIME, STOP_TIME-1])\n",
    "plt.ylim([35, -35])\n",
    "plt.grid()\n",
    "plt.show()"
   ]
  },
  {
   "cell_type": "markdown",
   "metadata": {},
   "source": [
    "With this plot, we can carefully conclude that the implementation of proposition 99 has caused a per-capita reduction of around 26 packs of cigarettes each year. Not bad!\n",
    "\n",
    "This post introduced the synthetic control method for policy evaluation and demonstrated its use on a famous example. I think this is a very interesting and fun topic that does not receive the attention it deserves. It is widely applicable and requires minimal and reasonable assumptions. The next post will go through another example that has not been addressed yet - what is the effect of Haifa's newly introduced low emission zone (LEZ)? Stay tuned!"
   ]
  }
 ],
 "metadata": {
  "kernelspec": {
   "display_name": "Python 3",
   "language": "python",
   "name": "python3"
  },
  "language_info": {
   "codemirror_mode": {
    "name": "ipython",
    "version": 3
   },
   "file_extension": ".py",
   "mimetype": "text/x-python",
   "name": "python",
   "nbconvert_exporter": "python",
   "pygments_lexer": "ipython3",
   "version": "3.6.9"
  }
 },
 "nbformat": 4,
 "nbformat_minor": 4
}
